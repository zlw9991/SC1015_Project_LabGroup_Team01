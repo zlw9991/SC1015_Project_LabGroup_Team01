{
 "cells": [
  {
   "cell_type": "code",
   "execution_count": 1,
   "id": "55ea64cc",
   "metadata": {},
   "outputs": [
    {
     "data": {
      "text/html": [
       "<div>\n",
       "<style scoped>\n",
       "    .dataframe tbody tr th:only-of-type {\n",
       "        vertical-align: middle;\n",
       "    }\n",
       "\n",
       "    .dataframe tbody tr th {\n",
       "        vertical-align: top;\n",
       "    }\n",
       "\n",
       "    .dataframe thead th {\n",
       "        text-align: right;\n",
       "    }\n",
       "</style>\n",
       "<table border=\"1\" class=\"dataframe\">\n",
       "  <thead>\n",
       "    <tr style=\"text-align: right;\">\n",
       "      <th></th>\n",
       "      <th>Date</th>\n",
       "      <th>MKPRU</th>\n",
       "      <th>MKPRUPNZ</th>\n",
       "      <th>MKTCP</th>\n",
       "      <th>TRFEE</th>\n",
       "      <th>TRFUS</th>\n",
       "      <th>NTRAN</th>\n",
       "      <th>NTREP</th>\n",
       "      <th>NTRBL</th>\n",
       "      <th>TOUTV</th>\n",
       "      <th>CPTRA</th>\n",
       "      <th>HRATE</th>\n",
       "      <th>MIREV</th>\n",
       "      <th>AVBLS</th>\n",
       "      <th>TRVOU</th>\n",
       "      <th>LTCPCUSD</th>\n",
       "    </tr>\n",
       "  </thead>\n",
       "  <tbody>\n",
       "    <tr>\n",
       "      <th>0</th>\n",
       "      <td>24/3/2022</td>\n",
       "      <td>0.012564</td>\n",
       "      <td>P</td>\n",
       "      <td>-0.009937</td>\n",
       "      <td>0.001798</td>\n",
       "      <td>-0.002635</td>\n",
       "      <td>-0.001463</td>\n",
       "      <td>-0.001488</td>\n",
       "      <td>0.026083</td>\n",
       "      <td>-0.077938</td>\n",
       "      <td>-0.026297</td>\n",
       "      <td>-0.026846</td>\n",
       "      <td>-0.027721</td>\n",
       "      <td>0.127598</td>\n",
       "      <td>0.735256</td>\n",
       "      <td>-0.0024</td>\n",
       "    </tr>\n",
       "    <tr>\n",
       "      <th>1</th>\n",
       "      <td>23/3/2022</td>\n",
       "      <td>0.031683</td>\n",
       "      <td>P</td>\n",
       "      <td>0.033621</td>\n",
       "      <td>0.138814</td>\n",
       "      <td>0.176755</td>\n",
       "      <td>0.017918</td>\n",
       "      <td>0.017888</td>\n",
       "      <td>0.045244</td>\n",
       "      <td>-0.196871</td>\n",
       "      <td>-0.013163</td>\n",
       "      <td>-0.026144</td>\n",
       "      <td>0.004519</td>\n",
       "      <td>0.003774</td>\n",
       "      <td>0.315445</td>\n",
       "      <td>0.0568</td>\n",
       "    </tr>\n",
       "    <tr>\n",
       "      <th>2</th>\n",
       "      <td>22/3/2022</td>\n",
       "      <td>-0.004349</td>\n",
       "      <td>N</td>\n",
       "      <td>-0.005987</td>\n",
       "      <td>0.469295</td>\n",
       "      <td>0.451134</td>\n",
       "      <td>0.234461</td>\n",
       "      <td>0.234579</td>\n",
       "      <td>0.242529</td>\n",
       "      <td>0.802417</td>\n",
       "      <td>-0.202758</td>\n",
       "      <td>-0.006494</td>\n",
       "      <td>-0.015836</td>\n",
       "      <td>0.263606</td>\n",
       "      <td>0.220800</td>\n",
       "      <td>0.0104</td>\n",
       "    </tr>\n",
       "    <tr>\n",
       "      <th>3</th>\n",
       "      <td>21/3/2022</td>\n",
       "      <td>-0.023009</td>\n",
       "      <td>N</td>\n",
       "      <td>-0.014472</td>\n",
       "      <td>-0.197232</td>\n",
       "      <td>-0.201570</td>\n",
       "      <td>-0.131493</td>\n",
       "      <td>-0.131423</td>\n",
       "      <td>-0.125853</td>\n",
       "      <td>-0.312220</td>\n",
       "      <td>0.136160</td>\n",
       "      <td>-0.006452</td>\n",
       "      <td>-0.013237</td>\n",
       "      <td>-0.151778</td>\n",
       "      <td>-0.523993</td>\n",
       "      <td>-0.0171</td>\n",
       "    </tr>\n",
       "    <tr>\n",
       "      <th>4</th>\n",
       "      <td>20/3/2022</td>\n",
       "      <td>0.010206</td>\n",
       "      <td>P</td>\n",
       "      <td>0.012744</td>\n",
       "      <td>-0.240592</td>\n",
       "      <td>-0.224083</td>\n",
       "      <td>-0.072303</td>\n",
       "      <td>-0.072311</td>\n",
       "      <td>-0.144124</td>\n",
       "      <td>0.075438</td>\n",
       "      <td>0.192572</td>\n",
       "      <td>0.083916</td>\n",
       "      <td>0.106346</td>\n",
       "      <td>-0.191031</td>\n",
       "      <td>0.179840</td>\n",
       "      <td>0.0447</td>\n",
       "    </tr>\n",
       "  </tbody>\n",
       "</table>\n",
       "</div>"
      ],
      "text/plain": [
       "        Date     MKPRU MKPRUPNZ     MKTCP     TRFEE     TRFUS     NTRAN  \\\n",
       "0  24/3/2022  0.012564        P -0.009937  0.001798 -0.002635 -0.001463   \n",
       "1  23/3/2022  0.031683        P  0.033621  0.138814  0.176755  0.017918   \n",
       "2  22/3/2022 -0.004349        N -0.005987  0.469295  0.451134  0.234461   \n",
       "3  21/3/2022 -0.023009        N -0.014472 -0.197232 -0.201570 -0.131493   \n",
       "4  20/3/2022  0.010206        P  0.012744 -0.240592 -0.224083 -0.072303   \n",
       "\n",
       "      NTREP     NTRBL     TOUTV     CPTRA     HRATE     MIREV     AVBLS  \\\n",
       "0 -0.001488  0.026083 -0.077938 -0.026297 -0.026846 -0.027721  0.127598   \n",
       "1  0.017888  0.045244 -0.196871 -0.013163 -0.026144  0.004519  0.003774   \n",
       "2  0.234579  0.242529  0.802417 -0.202758 -0.006494 -0.015836  0.263606   \n",
       "3 -0.131423 -0.125853 -0.312220  0.136160 -0.006452 -0.013237 -0.151778   \n",
       "4 -0.072311 -0.144124  0.075438  0.192572  0.083916  0.106346 -0.191031   \n",
       "\n",
       "      TRVOU  LTCPCUSD  \n",
       "0  0.735256   -0.0024  \n",
       "1  0.315445    0.0568  \n",
       "2  0.220800    0.0104  \n",
       "3 -0.523993   -0.0171  \n",
       "4  0.179840    0.0447  "
      ]
     },
     "execution_count": 1,
     "metadata": {},
     "output_type": "execute_result"
    }
   ],
   "source": [
    "# Using RandomForest + GridSearch\n",
    "import numpy as np\n",
    "import pandas as pd\n",
    "import seaborn as sb\n",
    "import matplotlib.pyplot as plt # we only need pyplot\n",
    "sb.set() # set the default Seaborn style for graphics\n",
    "\n",
    "table = pd.read_csv('cmb1.csv')\n",
    "table.head()"
   ]
  },
  {
   "cell_type": "code",
   "execution_count": null,
   "id": "81e95ee7",
   "metadata": {},
   "outputs": [],
   "source": []
  },
  {
   "cell_type": "code",
   "execution_count": null,
   "id": "1bfc5f75",
   "metadata": {},
   "outputs": [],
   "source": []
  },
  {
   "cell_type": "code",
   "execution_count": 2,
   "id": "90fc552a",
   "metadata": {},
   "outputs": [
    {
     "data": {
      "text/plain": [
       "RandomForestClassifier(max_depth=4)"
      ]
     },
     "execution_count": 2,
     "metadata": {},
     "output_type": "execute_result"
    }
   ],
   "source": [
    "\n",
    "\n",
    "from sklearn.ensemble import RandomForestClassifier\n",
    "from sklearn.tree import DecisionTreeClassifier\n",
    "from sklearn.model_selection import train_test_split\n",
    "from sklearn.metrics import confusion_matrix\n",
    "from sklearn.tree import plot_tree\n",
    "\n",
    "# Extract Response and Predictors\n",
    "y = pd.DataFrame(table[\"MKPRUPNZ\"])\n",
    "X = pd.DataFrame(table[[\"MKTCP\",\"LTCPCUSD\"]]) \n",
    "\n",
    "# Split the Dataset into Train and Test\n",
    "X_train, X_test, y_train, y_test = train_test_split(X, y, test_size = 0.2,random_state=277843)\n",
    "\n",
    "# Create the Random Forest object\n",
    "rforest = RandomForestClassifier(n_estimators = 100,  # n_estimators denote number of trees\n",
    "                                 max_depth = 4)       # set the maximum depth of each tree\n",
    "\n",
    "# Fit Random Forest on Train Data\n",
    "rforest.fit(X_train, y_train.MKPRUPNZ.ravel())"
   ]
  },
  {
   "cell_type": "code",
   "execution_count": 3,
   "id": "2c04e5f8",
   "metadata": {},
   "outputs": [
    {
     "name": "stdout",
     "output_type": "stream",
     "text": [
      "Train Data\n",
      "Accuracy  :\t 0.8039364118092355\n",
      "\n",
      "TPR Train :\t 0.8288690476190477\n",
      "TNR Train :\t 0.7781201848998459\n",
      "\n",
      "FPR Train :\t 0.2218798151001541\n",
      "FNR Train :\t 0.17113095238095238\n"
     ]
    },
    {
     "data": {
      "text/plain": [
       "<AxesSubplot:>"
      ]
     },
     "execution_count": 3,
     "metadata": {},
     "output_type": "execute_result"
    },
    {
     "data": {
      "image/png": "[encoded data removed]",
      "text/plain": [
       "<Figure size 432x288 with 2 Axes>"
      ]
     },
     "metadata": {},
     "output_type": "display_data"
    }
   ],
   "source": [
    "# Predict the Response corresponding to Predictors\n",
    "y_train_pred = rforest.predict(X_train)\n",
    "\n",
    "# Print the Classification Accuracy\n",
    "print(\"Train Data\")\n",
    "print(\"Accuracy  :\\t\", rforest.score(X_train, y_train))\n",
    "print()\n",
    "\n",
    "# Print the Accuracy Measures from the Confusion Matrix\n",
    "cmTrain = confusion_matrix(y_train, y_train_pred)\n",
    "tpTrain = cmTrain[1][1] # True Positives : Good (1) predicted Good (1)\n",
    "fpTrain = cmTrain[0][1] # False Positives : Bad (0) predicted Good (1)\n",
    "tnTrain = cmTrain[0][0] # True Negatives : Bad (0) predicted Bad (0)\n",
    "fnTrain = cmTrain[1][0] # False Negatives : Good (1) predicted Bad (0)\n",
    "\n",
    "print(\"TPR Train :\\t\", (tpTrain/(tpTrain + fnTrain)))\n",
    "print(\"TNR Train :\\t\", (tnTrain/(tnTrain + fpTrain)))\n",
    "print()\n",
    "\n",
    "print(\"FPR Train :\\t\", (fpTrain/(tnTrain + fpTrain)))\n",
    "print(\"FNR Train :\\t\", (fnTrain/(tpTrain + fnTrain)))\n",
    "\n",
    "# Plot the two-way Confusion Matrix\n",
    "sb.heatmap(confusion_matrix(y_train, y_train_pred), \n",
    "           annot = True, fmt=\".0f\", annot_kws={\"size\": 18})"
   ]
  },
  {
   "cell_type": "code",
   "execution_count": 4,
   "id": "a1eec134",
   "metadata": {},
   "outputs": [
    {
     "name": "stdout",
     "output_type": "stream",
     "text": [
      "Test Data\n",
      "Accuracy  :\t 0.7945619335347432\n",
      "\n",
      "TPR Test :\t 0.8372093023255814\n",
      "TNR Test :\t 0.7155172413793104\n",
      "\n",
      "FPR Test :\t 0.28448275862068967\n",
      "FNR Test :\t 0.16279069767441862\n"
     ]
    },
    {
     "data": {
      "text/plain": [
       "<AxesSubplot:>"
      ]
     },
     "execution_count": 4,
     "metadata": {},
     "output_type": "execute_result"
    },
    {
     "data": {
      "image/png": "[encoded data removed]",
      "text/plain": [
       "<Figure size 432x288 with 2 Axes>"
      ]
     },
     "metadata": {},
     "output_type": "display_data"
    }
   ],
   "source": [
    "# Import the required metric from sklearn\n",
    "from sklearn.metrics import confusion_matrix\n",
    "\n",
    "# Predict the Response corresponding to Predictors\n",
    "y_test_pred = rforest.predict(X_test)\n",
    "\n",
    "# Print the Classification Accuracy\n",
    "print(\"Test Data\")\n",
    "print(\"Accuracy  :\\t\", rforest.score(X_test, y_test))\n",
    "print()\n",
    "\n",
    "# Print the Accuracy Measures from the Confusion Matrix\n",
    "cmTest = confusion_matrix(y_test, y_test_pred)\n",
    "tpTest = cmTest[1][1] # True Positives : Good (1) predicted Good (1)\n",
    "fpTest = cmTest[0][1] # False Positives : Bad (0) predicted Good (1)\n",
    "tnTest = cmTest[0][0] # True Negatives : Bad (0) predicted Bad (0)\n",
    "fnTest = cmTest[1][0] # False Negatives : Good (1) predicted Bad (0)\n",
    "\n",
    "print(\"TPR Test :\\t\", (tpTest/(tpTest + fnTest)))\n",
    "print(\"TNR Test :\\t\", (tnTest/(tnTest + fpTest)))\n",
    "print()\n",
    "\n",
    "print(\"FPR Test :\\t\", (fpTest/(fpTest + tnTest)))\n",
    "print(\"FNR Test :\\t\", (fnTest/(fnTest + tpTest)))\n",
    "\n",
    "# Plot the two-way Confusion Matrix\n",
    "sb.heatmap(confusion_matrix(y_test, y_test_pred), \n",
    "           annot = True, fmt=\".0f\", annot_kws={\"size\": 18})"
   ]
  },
  {
   "cell_type": "code",
   "execution_count": 5,
   "id": "b1bd279b",
   "metadata": {},
   "outputs": [
    {
     "data": {
      "text/plain": [
       "GridSearchCV(cv=5, estimator=RandomForestClassifier(),\n",
       "             param_grid={'max_depth': array([ 2,  3,  4,  5,  6,  7,  8,  9, 10]),\n",
       "                         'n_estimators': array([ 100,  200,  300,  400,  500,  600,  700,  800,  900, 1000])},\n",
       "             scoring='accuracy')"
      ]
     },
     "execution_count": 5,
     "metadata": {},
     "output_type": "execute_result"
    }
   ],
   "source": [
    "# optimize w gridsearch\n",
    "# Import GridSearch for hyperparameter tuning using Cross-Validation (CV)\n",
    "from sklearn.model_selection import GridSearchCV\n",
    "\n",
    "# Define the Hyper-parameter Grid to search on, in case of Random Forest\n",
    "param_grid = {'n_estimators': np.arange(100,1001,100),   # number of trees 100, 200, ..., 1000\n",
    "              'max_depth': np.arange(2, 11)}             # depth of trees 2, 3, 4, 5, ..., 10\n",
    "\n",
    "# Create the Hyper-parameter Grid\n",
    "hpGrid = GridSearchCV(RandomForestClassifier(),   # the model family\n",
    "                      param_grid,                 # the search grid\n",
    "                      cv = 5,                     # 5-fold cross-validation\n",
    "                      scoring = 'accuracy')       # score to evaluate\n",
    "\n",
    "# Train the models using Cross-Validation\n",
    "hpGrid.fit(X_train, y_train.MKPRUPNZ.ravel())"
   ]
  },
  {
   "cell_type": "code",
   "execution_count": 6,
   "id": "99dd5b43",
   "metadata": {},
   "outputs": [
    {
     "name": "stdout",
     "output_type": "stream",
     "text": [
      "RandomForestClassifier(max_depth=3, n_estimators=1000)\n",
      "0.7819468267581475\n"
     ]
    }
   ],
   "source": [
    "# Fetch the best Model or the best set of Hyper-parameters\n",
    "print(hpGrid.best_estimator_)\n",
    "\n",
    "# Print the score (accuracy) of the best Model after CV\n",
    "print(np.abs(hpGrid.best_score_))"
   ]
  },
  {
   "cell_type": "code",
   "execution_count": 7,
   "id": "63c9b1cc",
   "metadata": {},
   "outputs": [
    {
     "data": {
      "text/plain": [
       "RandomForestClassifier(max_depth=3, n_estimators=1000)"
      ]
     },
     "execution_count": 7,
     "metadata": {},
     "output_type": "execute_result"
    }
   ],
   "source": [
    "#using optimal\n",
    "\n",
    "# Extract Response and Predictors\n",
    "y = pd.DataFrame(table[\"MKPRUPNZ\"])\n",
    "X = pd.DataFrame(table[[\"MKTCP\",\"LTCPCUSD\"]]) \n",
    "\n",
    "# Split the Dataset into Train and Test\n",
    "X_train, X_test, y_train, y_test = train_test_split(X, y, test_size = 0.2,random_state=277843)\n",
    "\n",
    "# Create the Random Forest object\n",
    "rforest = RandomForestClassifier(n_estimators = 1000,  # n_estimators denote number of trees\n",
    "                                 max_depth = 3)       # set the maximum depth of each tree\n",
    "\n",
    "# Fit Random Forest on Train Data\n",
    "rforest.fit(X_train, y_train.MKPRUPNZ.ravel())"
   ]
  },
  {
   "cell_type": "code",
   "execution_count": 8,
   "id": "f2d4e513",
   "metadata": {},
   "outputs": [
    {
     "name": "stdout",
     "output_type": "stream",
     "text": [
      "Train Data\n",
      "Accuracy  :\t 0.7963663890991673\n",
      "\n",
      "TPR Train :\t 0.8214285714285714\n",
      "TNR Train :\t 0.7704160246533128\n",
      "\n",
      "FPR Train :\t 0.2295839753466872\n",
      "FNR Train :\t 0.17857142857142858\n"
     ]
    },
    {
     "data": {
      "text/plain": [
       "<AxesSubplot:>"
      ]
     },
     "execution_count": 8,
     "metadata": {},
     "output_type": "execute_result"
    },
    {
     "data": {
      "image/png": "[encoded data removed]",
      "text/plain": [
       "<Figure size 432x288 with 2 Axes>"
      ]
     },
     "metadata": {},
     "output_type": "display_data"
    }
   ],
   "source": [
    "# Predict the Response corresponding to Predictors\n",
    "y_train_pred = rforest.predict(X_train)\n",
    "\n",
    "# Print the Classification Accuracy\n",
    "print(\"Train Data\")\n",
    "print(\"Accuracy  :\\t\", rforest.score(X_train, y_train))\n",
    "print()\n",
    "\n",
    "# Print the Accuracy Measures from the Confusion Matrix\n",
    "cmTrain = confusion_matrix(y_train, y_train_pred)\n",
    "tpTrain = cmTrain[1][1] # True Positives : Good (1) predicted Good (1)\n",
    "fpTrain = cmTrain[0][1] # False Positives : Bad (0) predicted Good (1)\n",
    "tnTrain = cmTrain[0][0] # True Negatives : Bad (0) predicted Bad (0)\n",
    "fnTrain = cmTrain[1][0] # False Negatives : Good (1) predicted Bad (0)\n",
    "\n",
    "print(\"TPR Train :\\t\", (tpTrain/(tpTrain + fnTrain)))\n",
    "print(\"TNR Train :\\t\", (tnTrain/(tnTrain + fpTrain)))\n",
    "print()\n",
    "\n",
    "print(\"FPR Train :\\t\", (fpTrain/(tnTrain + fpTrain)))\n",
    "print(\"FNR Train :\\t\", (fnTrain/(tpTrain + fnTrain)))\n",
    "\n",
    "# Plot the two-way Confusion Matrix\n",
    "sb.heatmap(confusion_matrix(y_train, y_train_pred), \n",
    "           annot = True, fmt=\".0f\", annot_kws={\"size\": 18})"
   ]
  },
  {
   "cell_type": "code",
   "execution_count": 9,
   "id": "f7785490",
   "metadata": {},
   "outputs": [
    {
     "name": "stdout",
     "output_type": "stream",
     "text": [
      "Test Data\n",
      "Accuracy  :\t 0.7945619335347432\n",
      "\n",
      "TPR Test :\t 0.827906976744186\n",
      "TNR Test :\t 0.7327586206896551\n",
      "\n",
      "FPR Test :\t 0.2672413793103448\n",
      "FNR Test :\t 0.17209302325581396\n"
     ]
    },
    {
     "data": {
      "text/plain": [
       "<AxesSubplot:>"
      ]
     },
     "execution_count": 9,
     "metadata": {},
     "output_type": "execute_result"
    },
    {
     "data": {
      "image/png": "[encoded data removed]",
      "text/plain": [
       "<Figure size 432x288 with 2 Axes>"
      ]
     },
     "metadata": {},
     "output_type": "display_data"
    }
   ],
   "source": [
    "# Import the required metric from sklearn\n",
    "from sklearn.metrics import confusion_matrix\n",
    "\n",
    "# Predict the Response corresponding to Predictors\n",
    "y_test_pred = rforest.predict(X_test)\n",
    "\n",
    "# Print the Classification Accuracy\n",
    "print(\"Test Data\")\n",
    "print(\"Accuracy  :\\t\", rforest.score(X_test, y_test))\n",
    "print()\n",
    "\n",
    "# Print the Accuracy Measures from the Confusion Matrix\n",
    "cmTest = confusion_matrix(y_test, y_test_pred)\n",
    "tpTest = cmTest[1][1] # True Positives : Good (1) predicted Good (1)\n",
    "fpTest = cmTest[0][1] # False Positives : Bad (0) predicted Good (1)\n",
    "tnTest = cmTest[0][0] # True Negatives : Bad (0) predicted Bad (0)\n",
    "fnTest = cmTest[1][0] # False Negatives : Good (1) predicted Bad (0)\n",
    "\n",
    "print(\"TPR Test :\\t\", (tpTest/(tpTest + fnTest)))\n",
    "print(\"TNR Test :\\t\", (tnTest/(tnTest + fpTest)))\n",
    "print()\n",
    "\n",
    "print(\"FPR Test :\\t\", (fpTest/(fpTest + tnTest)))\n",
    "print(\"FNR Test :\\t\", (fnTest/(fnTest + tpTest)))\n",
    "\n",
    "# Plot the two-way Confusion Matrix\n",
    "sb.heatmap(confusion_matrix(y_test, y_test_pred), \n",
    "           annot = True, fmt=\".0f\", annot_kws={\"size\": 18})"
   ]
  },
  {
   "cell_type": "code",
   "execution_count": null,
   "id": "b9a1c644",
   "metadata": {},
   "outputs": [],
   "source": []
  }
 ],
 "metadata": {
  "kernelspec": {
   "display_name": "Python 3 (ipykernel)",
   "language": "python",
   "name": "python3"
  },
  "language_info": {
   "codemirror_mode": {
    "name": "ipython",
    "version": 3
   },
   "file_extension": ".py",
   "mimetype": "text/x-python",
   "name": "python",
   "nbconvert_exporter": "python",
   "pygments_lexer": "ipython3",
   "version": "3.9.7"
  }
 },
 "nbformat": 4,
 "nbformat_minor": 5
}
