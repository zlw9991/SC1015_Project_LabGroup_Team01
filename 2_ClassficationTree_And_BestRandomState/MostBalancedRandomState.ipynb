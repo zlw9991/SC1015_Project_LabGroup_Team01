{
 "cells": [
  {
   "cell_type": "code",
   "execution_count": 13,
   "id": "aeecdcb3",
   "metadata": {},
   "outputs": [
    {
     "name": "stdout",
     "output_type": "stream",
     "text": [
      "23.0\n",
      "277843\n"
     ]
    }
   ],
   "source": [
    "#most even random state\n",
    "import numpy as np\n",
    "import pandas as pd\n",
    "import seaborn as sb\n",
    "import matplotlib.pyplot as plt\n",
    "import math \n",
    "\n",
    "sb.set()\n",
    "\n",
    "table = pd.read_csv('cmb1.csv') # read the csv\n",
    "#mktcap as predictor\n",
    "#mktpru P/N/Z as response\n",
    "\n",
    "y = pd.DataFrame(table[\"MKPRUPNZ\"])\n",
    "#X = pd.DataFrame(table[[\"MKTCP\"]]) # one var\n",
    "#X = pd.DataFrame(table[[\"MKTCP\",\"CPTRA\"]]) # two var\n",
    "X = pd.DataFrame(table[[\"MKTCP\",\"CPTRA\",\"TRFUS\",\"MIREV\"]])\n",
    "#X = pd.DataFrame(table[[\"MKTCP\",\"TRFUS\"]])\n",
    "from sklearn.model_selection import train_test_split\n",
    "\n",
    "# Split the Dataset into Train and Test\n",
    "maxdiff = 10000000\n",
    "ct = 0\n",
    "minct = 0\n",
    "while ct < 1000000:\n",
    "    X_train, X_test, y_train, y_test = train_test_split(X, y, test_size = 0.20,random_state=ct) # 80:20 ratio\n",
    "    p = y_train[\"MKPRUPNZ\"].value_counts()['P']\n",
    "    n = y_train[\"MKPRUPNZ\"].value_counts()['N']\n",
    "    d = p - n\n",
    "    d = math.sqrt(d ** 2)\n",
    "    if d < maxdiff:\n",
    "        maxdiff = d\n",
    "        minct = ct\n",
    "    ct += 1\n",
    "\n",
    "print(maxdiff)\n",
    "print(minct)"
   ]
  },
  {
   "cell_type": "code",
   "execution_count": null,
   "id": "b5ad2941",
   "metadata": {},
   "outputs": [],
   "source": []
  }
 ],
 "metadata": {
  "kernelspec": {
   "display_name": "Python 3 (ipykernel)",
   "language": "python",
   "name": "python3"
  },
  "language_info": {
   "codemirror_mode": {
    "name": "ipython",
    "version": 3
   },
   "file_extension": ".py",
   "mimetype": "text/x-python",
   "name": "python",
   "nbconvert_exporter": "python",
   "pygments_lexer": "ipython3",
   "version": "3.9.7"
  }
 },
 "nbformat": 4,
 "nbformat_minor": 5
}
